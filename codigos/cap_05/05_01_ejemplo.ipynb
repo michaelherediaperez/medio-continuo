{
  "nbformat": 4,
  "nbformat_minor": 0,
  "metadata": {
    "colab": {
      "provenance": []
    },
    "kernelspec": {
      "name": "python3",
      "display_name": "Python 3"
    },
    "language_info": {
      "name": "python"
    }
  },
  "cells": [
    {
      "cell_type": "markdown",
      "source": [
        "# Ejemplo 5.1.\n",
        "\n",
        "|Quién | Fecha | Qué hizo |\n",
        "| ---  | ---   | ---      |\n",
        "|Michael Heredia Pérez, <mherediap@unal.edu.co> | mayo 2025      | Ejemplo de EDPs compatibilidad|\n",
        "\n",
        "Considere una condición de tensión plana, en la cual $$\\varepsilon_x(x,y) = a(x^2 + y^2) \\quad \\text{y} \\quad \\gamma_{x,y}(x,y) = 4xy,$$ donde $a$ es una constante. Encuentre la deformación longitudinal  $\\varepsilon_y(x,y)$ correspondiente que sea físicamente válida, asumiendo una condición en la cual las fuerzas másicas se consideran nulas y que el material es elástico, lineal, homogéneo e isótropo.\n",
        "\n",
        "\n",
        "## Solución\n",
        "Complemente con el texto del main."
      ],
      "metadata": {
        "id": "reBB1y0_VIev"
      }
    },
    {
      "cell_type": "code",
      "source": [
        "import sympy as sp\n",
        "\n",
        "# Variables simbólicas.\n",
        "x, y, a, E, nu, C1, C2 = sp.symbols('x y a E nu C1 C2')\n",
        "\n",
        "# Deformaciones.\n",
        "ex = a * (x**2 + y**2)\n",
        "gxy = 4 * x * y\n",
        "\n",
        "# Se especifica que ey es una función de x y de y.\n",
        "ey = sp.Function('ey')(x, y)\n",
        "\n",
        "# Tensión plana\n",
        "sx = (E / (1 - nu**2)) * (ex + nu * ey)\n",
        "sy = (E / (1 - nu**2)) * (ey + nu * ex)\n",
        "\n",
        "# Verificación de ecuación de compatibilidad en términos de deformaciones:\n",
        "compat_deform = sp.diff(gxy, x, y) - sp.diff(ex, y, 2) - sp.diff(ey, x, 2)\n",
        "print(\"Compatibilidad en deformaciones (igualada a 0):\")\n",
        "#sp.pprint(sp.simplify(compat_deform))\n",
        "\n",
        "# Visualización en Jupyter\n",
        "sp.simplify(compat_deform)"
      ],
      "metadata": {
        "colab": {
          "base_uri": "https://localhost:8080/",
          "height": 71
        },
        "id": "dUNs2JR9V1aG",
        "outputId": "942b35c9-74fc-4492-854e-08f44da705ba"
      },
      "execution_count": 10,
      "outputs": [
        {
          "output_type": "stream",
          "name": "stdout",
          "text": [
            "Compatibilidad en deformaciones (igualada a 0):\n"
          ]
        },
        {
          "output_type": "execute_result",
          "data": {
            "text/plain": [
              "-2*a - Derivative(ey(x, y), (x, 2)) + 4"
            ],
            "text/latex": "$\\displaystyle - 2 a - \\frac{\\partial^{2}}{\\partial x^{2}} \\operatorname{ey}{\\left(x,y \\right)} + 4$"
          },
          "metadata": {},
          "execution_count": 10
        }
      ]
    },
    {
      "cell_type": "code",
      "execution_count": 9,
      "metadata": {
        "colab": {
          "base_uri": "https://localhost:8080/",
          "height": 102
        },
        "id": "tScORZzyTUQ0",
        "outputId": "568c442d-5744-4338-bf16-8032a16b028b"
      },
      "outputs": [
        {
          "output_type": "stream",
          "name": "stdout",
          "text": [
            "\n",
            "Ecuación de Lévy (igualada a 0):\n"
          ]
        },
        {
          "output_type": "execute_result",
          "data": {
            "text/plain": [
              "E*(-2*a - x*Derivative(g1(y), (y, 2)) - Derivative(g2(y), (y, 2)) - 4)/(nu - 1)"
            ],
            "text/latex": "$\\displaystyle \\frac{E \\left(- 2 a - x \\frac{d^{2}}{d y^{2}} g_{1}{\\left(y \\right)} - \\frac{d^{2}}{d y^{2}} g_{2}{\\left(y \\right)} - 4\\right)}{\\nu - 1}$"
          },
          "metadata": {},
          "execution_count": 9
        }
      ],
      "source": [
        "# Se especifica que ambas funciones g1 y g2 son funciones de y.\n",
        "g1 = sp.Function('g1')(y)\n",
        "g2 = sp.Function('g2')(y)\n",
        "\n",
        "# Definición de ey como función general\n",
        "ey = (2 - a)*x**2 + g1*x + g2\n",
        "\n",
        "# Ley de Hooke para tensión plana\n",
        "sx = (E / (1 - nu**2)) * (ex + nu * ey)\n",
        "sy = (E / (1 - nu**2)) * (ey + nu * ex)\n",
        "\n",
        "# Laplaciano (operador de Lévy)\n",
        "def laplaciano(f):\n",
        "    return sp.diff(f, x, 2) + sp.diff(f, y, 2)\n",
        "\n",
        "# Verificación de la ecuación de compatibilidad de Lévy\n",
        "levy = laplaciano(sx + sy)\n",
        "print(\"\\nEcuación de Lévy (igualada a 0):\")\n",
        "#sp.pprint(sp.simplify(levy))\n",
        "\n",
        "# Visualización en Jupyter\n",
        "sp.simplify(levy)"
      ]
    },
    {
      "cell_type": "code",
      "source": [
        "# Redefinimos ey como una forma particular (sin funciones arbitrarias)\n",
        "ey_simple = (2 - a)*x**2 - (2 + a)*y**2 + C1*y + C2\n",
        "\n",
        "# Se recalculan sx y sy\n",
        "ex = a * (x**2 + y**2)\n",
        "ey = ey_simple\n",
        "sx = (E / (1 - nu**2)) * (ex + nu * ey)\n",
        "sy = (E / (1 - nu**2)) * (ey + nu * ex)\n",
        "\n",
        "# Verificamos de nuevo la ecuación de Lévy\n",
        "levy_final = laplaciano(sx + sy)\n",
        "print(\"\\nEcuación de Lévy con ey particular:\")\n",
        "sp.pprint(sp.simplify(levy_final))"
      ],
      "metadata": {
        "colab": {
          "base_uri": "https://localhost:8080/"
        },
        "id": "6MnEVQwQTVWq",
        "outputId": "6cf55d8e-5232-4a72-d9ec-81df01e47e2e"
      },
      "execution_count": 11,
      "outputs": [
        {
          "output_type": "stream",
          "name": "stdout",
          "text": [
            "\n",
            "Ecuación de Lévy con ey particular:\n",
            "0\n"
          ]
        }
      ]
    }
  ]
}