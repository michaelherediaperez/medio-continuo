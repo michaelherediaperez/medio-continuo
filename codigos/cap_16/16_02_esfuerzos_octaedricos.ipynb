{
  "nbformat": 4,
  "nbformat_minor": 0,
  "metadata": {
    "colab": {
      "provenance": []
    },
    "kernelspec": {
      "name": "python3",
      "display_name": "Python 3"
    },
    "language_info": {
      "name": "python"
    }
  },
  "cells": [
    {
      "cell_type": "markdown",
      "source": [
        "# Magnitud de las componentes normal y tangencial del esfuerzo octaédrico\n",
        "\n",
        "|Quién | Fecha | Qué hizo |\n",
        "| ---  | ---   | ---      |\n",
        "|Michael Heredia Pérez, <mherediap@unal.edu.co>  | Junio 1, 2025 | Primer código |\n",
        "\n"
      ],
      "metadata": {
        "id": "armgIr1wCXr5"
      }
    },
    {
      "cell_type": "markdown",
      "source": [
        "Definimos las variables simbólicas"
      ],
      "metadata": {
        "id": "vDVCiyAiG5nl"
      }
    },
    {
      "cell_type": "code",
      "execution_count": 1,
      "metadata": {
        "id": "3Azc9hK5CTCu"
      },
      "outputs": [],
      "source": [
        "# Importamos los módulos de cálculo simbólico necesarias.\n",
        "import sympy as sp\n",
        "\n",
        "#Para imprimir bonito\n",
        "sp.init_printing()\n",
        "\n",
        "from IPython.display import Math\n",
        "\n",
        "def imprimir (texto1, variable, texto2=\"\"):\n",
        "    return Math(texto1 +  rf'{sp.latex(variable)}' + texto2)\n",
        "\n",
        "# Definimos las variables necesarias para comenzar.\n",
        "sigma_1, sigma_2, sigma_3 = sp.symbols('sigma_1, sigma_2, sigma_3')"
      ]
    },
    {
      "cell_type": "markdown",
      "source": [
        "Calculamos las componentes sabiendo que:\n",
        "\n",
        "\\begin{equation*}\n",
        "\\sigma_n = \\boldsymbol{q} \\cdot \\boldsymbol{\\hat{n}}\n",
        "\\qquad\n",
        "|\\tau_n|^2 = \\boldsymbol{q} \\cdot \\boldsymbol{q} - \\sigma_n^2\n",
        "\\end{equation*}\n",
        "\n",
        "Desarrollo:"
      ],
      "metadata": {
        "id": "JvQMDi1-G5Hu"
      }
    },
    {
      "cell_type": "code",
      "source": [
        "# Definir vectores como matrices columna\n",
        "n = (sp.sqrt(3)/3) * sp.Matrix([1, 1, 1])\n",
        "q = (sp.sqrt(3)/3) * sp.Matrix([sigma_1, sigma_2, sigma_3])\n",
        "\n",
        "# Producto escalar (sn = q • n)\n",
        "sn = sp.factor(q.dot(n))\n",
        "\n",
        "# Magnitud cuadrada de la componente tangencial\n",
        "tn2 = sp.factor(q.dot(q) - sn**2)"
      ],
      "metadata": {
        "id": "k1HjmyHeCsod"
      },
      "execution_count": 2,
      "outputs": []
    },
    {
      "cell_type": "code",
      "source": [
        "imprimir(\"\\sigma_n = \", sn)"
      ],
      "metadata": {
        "colab": {
          "base_uri": "https://localhost:8080/",
          "height": 50
        },
        "id": "gJrH21u6DANc",
        "outputId": "277666a6-b934-4aa3-e481-f9b45911432b"
      },
      "execution_count": 3,
      "outputs": [
        {
          "output_type": "execute_result",
          "data": {
            "text/plain": [
              "<IPython.core.display.Math object>"
            ],
            "text/latex": "$\\displaystyle \\sigma_n = \\frac{\\sigma_{1} + \\sigma_{2} + \\sigma_{3}}{3}$"
          },
          "metadata": {},
          "execution_count": 3
        }
      ]
    },
    {
      "cell_type": "code",
      "source": [
        "imprimir(\"\\tau_n^{2} = \", tn2)"
      ],
      "metadata": {
        "colab": {
          "base_uri": "https://localhost:8080/",
          "height": 56
        },
        "id": "0DN58is4ETZL",
        "outputId": "32d40bd0-f0a6-4229-fc22-b13cfdd6dbcb"
      },
      "execution_count": 4,
      "outputs": [
        {
          "output_type": "execute_result",
          "data": {
            "text/plain": [
              "<IPython.core.display.Math object>"
            ],
            "text/latex": "$\\displaystyle \tau_n^{2} = \\frac{2 \\left(\\sigma_{1}^{2} - \\sigma_{1} \\sigma_{2} - \\sigma_{1} \\sigma_{3} + \\sigma_{2}^{2} - \\sigma_{2} \\sigma_{3} + \\sigma_{3}^{2}\\right)}{9}$"
          },
          "metadata": {},
          "execution_count": 4
        }
      ]
    },
    {
      "cell_type": "code",
      "source": [
        "imprimir(\"\\tau_n = \", sp.sqrt(tn2))"
      ],
      "metadata": {
        "colab": {
          "base_uri": "https://localhost:8080/",
          "height": 56
        },
        "id": "Zt3sm82KFg2k",
        "outputId": "151ecdb7-d268-4294-af43-ec6804045c3b"
      },
      "execution_count": 5,
      "outputs": [
        {
          "output_type": "execute_result",
          "data": {
            "text/plain": [
              "<IPython.core.display.Math object>"
            ],
            "text/latex": "$\\displaystyle \tau_n = \\frac{\\sqrt{2} \\sqrt{\\sigma_{1}^{2} - \\sigma_{1} \\sigma_{2} - \\sigma_{1} \\sigma_{3} + \\sigma_{2}^{2} - \\sigma_{2} \\sigma_{3} + \\sigma_{3}^{2}}}{3}$"
          },
          "metadata": {},
          "execution_count": 5
        }
      ]
    },
    {
      "cell_type": "markdown",
      "source": [
        "Verificamos las siguientes expresiones para $\\tau_n^{2}$:\n",
        "\n",
        "\\begin{align}\n",
        "    \\sigma_{\\text{OCT}} &= \\frac{\\sigma_1 + \\sigma_2 + \\sigma_3}{3} = \\frac{I_1}{3} = \\sigma_M \\\\\n",
        "    |\\tau_{\\text{OCT}}| &= \\frac{1}{3} \\sqrt{(\\sigma_1 - \\sigma_2)^2 + (\\sigma_2 - \\sigma_3)^2 + (\\sigma_3 - \\sigma_1)^2} \\\\\n",
        "    &= \\frac{1}{3} \\sqrt{2I_1^2 - 6I_2} \\\\\n",
        "    &= \\sqrt{\\frac{2}{3} J_2}\n",
        "\\end{align}\n",
        "\n",
        "Para lo cual definimos algunos invariantes:"
      ],
      "metadata": {
        "id": "4qS5bWJvFy1t"
      }
    },
    {
      "cell_type": "code",
      "source": [
        "# Se definen los invariantes de esfuerzo de sigma\n",
        "I1 = sigma_1 + sigma_2 + sigma_3\n",
        "I2 = sigma_1*sigma_2 + sigma_2*sigma_3 + sigma_3*sigma_1\n",
        "I3 = sigma_2*sigma_2*sigma_3\n",
        "\n",
        "# Se define el segundo invariante del esfuerzo desviador\n",
        "J2 = I1**2 / 3 - I2"
      ],
      "metadata": {
        "id": "AA78pGN7G2df"
      },
      "execution_count": 6,
      "outputs": []
    },
    {
      "cell_type": "code",
      "source": [
        "expr_tn2 = ((sigma_1-sigma_2)**2 + (sigma_2-sigma_3)**2 + (sigma_3-sigma_1)**2)/9\n",
        "sp.simplify(tn2 - expr_tn2)"
      ],
      "metadata": {
        "colab": {
          "base_uri": "https://localhost:8080/",
          "height": 37
        },
        "id": "kcsrTBruFylM",
        "outputId": "c0feacb9-3c61-4d62-c37d-c56f5e8ff7b6"
      },
      "execution_count": 7,
      "outputs": [
        {
          "output_type": "execute_result",
          "data": {
            "text/plain": [
              "0"
            ],
            "text/latex": "$\\displaystyle 0$"
          },
          "metadata": {},
          "execution_count": 7
        }
      ]
    },
    {
      "cell_type": "code",
      "source": [
        "expr_tn2 = (2*I1**2 - 6*I2)/9\n",
        "sp.simplify(tn2 - expr_tn2)"
      ],
      "metadata": {
        "colab": {
          "base_uri": "https://localhost:8080/",
          "height": 37
        },
        "id": "B1QdETt0GMM9",
        "outputId": "0d51f5b4-dce8-4d02-838e-180ab25d2c89"
      },
      "execution_count": 8,
      "outputs": [
        {
          "output_type": "execute_result",
          "data": {
            "text/plain": [
              "0"
            ],
            "text/latex": "$\\displaystyle 0$"
          },
          "metadata": {},
          "execution_count": 8
        }
      ]
    },
    {
      "cell_type": "code",
      "source": [
        "expr_tn2 = (2/3)*J2\n",
        "sp.simplify(tn2 - expr_tn2)"
      ],
      "metadata": {
        "colab": {
          "base_uri": "https://localhost:8080/",
          "height": 37
        },
        "id": "a8mOn0GVGWTt",
        "outputId": "b2027573-72fd-4f44-92fd-602bfc819f3f"
      },
      "execution_count": 9,
      "outputs": [
        {
          "output_type": "execute_result",
          "data": {
            "text/plain": [
              "0"
            ],
            "text/latex": "$\\displaystyle 0$"
          },
          "metadata": {},
          "execution_count": 9
        }
      ]
    },
    {
      "cell_type": "markdown",
      "source": [
        "Fin :)"
      ],
      "metadata": {
        "id": "YXoa9xmtGaUE"
      }
    }
  ]
}