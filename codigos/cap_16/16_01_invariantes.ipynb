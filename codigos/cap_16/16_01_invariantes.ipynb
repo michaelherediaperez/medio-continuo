{
  "cells": [
    {
      "cell_type": "markdown",
      "metadata": {
        "id": "xEQ5HB9L2mC1"
      },
      "source": [
        "# Cálculo de los invariantes de los tensores de esfuerzos medios (hidrostáticos) y desviadores\n",
        "\n",
        "|Quién | Fecha | Qué hizo |\n",
        "| ---  | ---   | ---      |\n",
        "|Diego Andrés Alvarez Marín, <daalvarez@unal.edu.co>  | Año 2020 | Primer código |\n",
        "| Nathalie Pineda Pardo | Año 2023  | Adaptando el código de MAXIMA a Python  |\n",
        "|Diego Andrés Alvarez Marín, <daalvarez@unal.edu.co>  | Septiembre 6, 2024 | Mejorando los comentarios |\n",
        "|Michael Heredia Pérez, <mherediap@unal.edu.co>  | Junio 1, 2025 | Incluyendo explicaciones y mejorando continuidad |"
      ]
    },
    {
      "cell_type": "markdown",
      "metadata": {
        "id": "ltwLnQSu2Jqz"
      },
      "source": [
        "$$\n",
        "\\newcommand{\\ve}[1]{{\\boldsymbol{#1}}}\n",
        "\\newcommand{\\ma}[1]{{\\boldsymbol{#1}}}\n",
        "\\newcommand{\\hati}{\\ve{\\hat i}}\n",
        "\\newcommand{\\hatj}{\\ve{\\hat j}}\n",
        "\\newcommand{\\hatk}{\\ve{\\hat k}}\n",
        "\\newcommand{\\hatr}{\\ve{\\hat r}}\n",
        "\\newcommand{\\hatt}{\\ve{\\hat \\theta}}\n",
        "\\newcommand{\\hatp}{\\ve{\\hat \\varphi}}\n",
        "$$"
      ]
    },
    {
      "cell_type": "markdown",
      "source": [
        "Recordemos que resolviendo el determinante $\\det\\left( \\boldsymbol{\\underline{\\underline{\\sigma}}} - \\sigma_n \\boldsymbol{I}\\right) = 0$, llegamos a:\n",
        "\n",
        "\\begin{multline*}\n",
        "    \\left( \\sigma_x - \\sigma_n \\right) \\left[ (\\sigma_y - \\sigma_n)(\\sigma_z - \\sigma_n) - \\tau_{yz}^2 \\right] \\\\\n",
        "    - \\tau_{xy}\\left[ \\tau_{xy}(\\sigma_z - \\sigma_n) - \\tau_{yz}\\tau_{xz} \\right] \\\\\n",
        "    + \\tau_{xz} \\left[\\tau_{xy}\\tau_{yz} - (\\sigma_y - \\sigma_n)\\tau_{xz}\\right] = 0;\n",
        "\\end{multline*}\n",
        "\n",
        "Lo cual simplificamos en lo que se conoce como la ecuación característica:\n",
        "\\begin{equation*}\n",
        "    -\\sigma_n^3 + I_1 \\sigma_n^2 - I_2 \\sigma_n + I_3 = 0\n",
        "\\end{equation*}\n",
        "\n",
        "\n",
        "Cuyos coeficientes son los llamados **invariantes de esfuerzos**:\n",
        "\\begin{align*}\n",
        "    \\Theta := I_1 &= \\operatorname{tr}(\\underline{\\underline{\\sigma}}) \\\\\n",
        "    I_2 &= \\frac{1}{2}((\\operatorname{tr}(\\underline{\\underline{\\sigma}}))^2 - \\operatorname{tr}(\\underline{\\underline{\\sigma}}^2)) \\\\\n",
        "    I_3 &= \\det(\\underline{\\underline{\\sigma}})\n",
        "\\end{align*}\n",
        "\n",
        "Los invariantes son útiles cuando se necesita crear descripciones del comportamiento de los materiales, ya que, por ejemplo, un material isótropo no sabe qué sistema de coordenadas se ha usado para describir su comportamiento."
      ],
      "metadata": {
        "id": "s_Tk9-csbStd"
      }
    },
    {
      "cell_type": "markdown",
      "metadata": {
        "id": "VhCT4uTTfiIv"
      },
      "source": [
        "## 1. Preliminares del código"
      ]
    },
    {
      "cell_type": "code",
      "execution_count": 1,
      "metadata": {
        "id": "xCYwFmDWebGF"
      },
      "outputs": [],
      "source": [
        "# Importamos los módulos de cálculo simbólico necesarias.\n",
        "from sympy import symbols, init_printing, latex, expand, diag, det, trace, Matrix, factor, simplify\n",
        "\n",
        "#Para imprimir bonito\n",
        "init_printing()\n",
        "from IPython.display import Math\n",
        "def imprimir (texto1, variable, texto2=\"\"):\n",
        "    return Math(texto1 +  rf'{latex(variable)}' + texto2)\n",
        "\n",
        "# Definimos las variables necesarias para comenzar.\n",
        "sigmax, sigmay, sigmaz,txy, txz, tyz = symbols('sigma_x, sigma_y, sigma_z, tau_xy, tau_xz, tau_yz')\n",
        "E, nu                                = symbols('E, nu')"
      ]
    },
    {
      "cell_type": "markdown",
      "metadata": {
        "id": "1G4NvIi-WHjq"
      },
      "source": [
        "## 2. Esfuerzos medios o hidrostáticos"
      ]
    },
    {
      "cell_type": "markdown",
      "source": [
        "Los esfuerzos medios o hidrostáticos, definidos como $\\sigma_M$ están relacionados con la dilatación del sólido. Se calcula como:\n",
        "\\begin{equation}\n",
        "    \\sigma_M = \\frac{\\sigma_x + \\sigma_y + \\sigma_z}{3} =\\frac{I_1}{3}\n",
        "\\end{equation}\n",
        "\n",
        "Lo anterior en el sistema de coordenadas canónico$\\{\\boldsymbol{\\hat{i}}, \\boldsymbol{\\hat{j}}, \\boldsymbol{\\hat{k}}\\}$}, en el sistema de coordenadas dado por la direcciones principales $\\{\\boldsymbol{\\hat{n}_1}, \\boldsymbol{\\hat{n}_2}, \\boldsymbol{\\hat{n}_3}\\}$ sería\n",
        "\\begin{equation}\n",
        "    \\sigma_M = \\frac{\\sigma_1 + \\sigma_2 + \\sigma_3}{3} =\\frac{I_1}{3}\n",
        "\\end{equation}\n",
        "\n",
        "El tensor de esfuerzos hidrostáticos viene dado por:\n",
        "\\begin{equation}\n",
        "\\underline{\\underline{\\boldsymbol{\\sigma}}}_{\\text{hidr}} =\n",
        "\\begin{bmatrix}\n",
        "    \\sigma_M & 0 & 0 \\\\\n",
        "    0 & \\sigma_M & 0 \\\\\n",
        "    0 & 0 & \\sigma_M\n",
        "\\end{bmatrix}\n",
        "\\end{equation}"
      ],
      "metadata": {
        "id": "kSKHKud9dHBs"
      }
    },
    {
      "cell_type": "code",
      "execution_count": 2,
      "metadata": {
        "id": "FxBDhTDUpwCB"
      },
      "outputs": [],
      "source": [
        "# Simbólicamente, el esfuerzo medio o hidrostático\n",
        "sM = symbols('sigma_M')\n",
        "\n",
        "# Simbólicamente, la matriz de esfuerzos medios o hidrostáticos.\n",
        "sigma_hidr = diag(sM, sM, sM)"
      ]
    },
    {
      "cell_type": "markdown",
      "metadata": {
        "id": "Ewx1khWTqpXV"
      },
      "source": [
        "Los invariantes de esfuerzo del tensor de esfuerzos medios o hidrostáticos son:\n",
        "\\begin{equation*}\n",
        "\t\t\\widetilde{I}_1 := I_1 = 3\\sigma_M = \\operatorname{tr}(\\underline{\\underline{\\sigma}}) \\qquad\n",
        "\t\t\\widetilde{I}_2 := \\frac{I_1^2}{3} = 3\\sigma_M^2 \\qquad\n",
        "\t\t\\widetilde{I}_3 := \\frac{I_1^3}{27} = \\sigma_M^3.\n",
        "\\end{equation*}\n",
        "\n",
        "A continuación, los calculamos:"
      ]
    },
    {
      "cell_type": "code",
      "execution_count": 3,
      "metadata": {
        "id": "vMifna5uqo4Q"
      },
      "outputs": [],
      "source": [
        "I1 = trace(sigma_hidr)\n",
        "I2 = (trace(sigma_hidr)**2 - trace((sigma_hidr)**2))/2\n",
        "I3 = det(sigma_hidr)"
      ]
    },
    {
      "cell_type": "code",
      "execution_count": 4,
      "metadata": {
        "colab": {
          "base_uri": "https://localhost:8080/",
          "height": 38
        },
        "id": "xq9x4OS0WHjs",
        "outputId": "2f53086f-91a9-4f10-d7ff-f3671e8857ae"
      },
      "outputs": [
        {
          "output_type": "execute_result",
          "data": {
            "text/plain": [
              "<IPython.core.display.Math object>"
            ],
            "text/latex": "$\\displaystyle I_1 = 3 \\sigma_{M}$"
          },
          "metadata": {},
          "execution_count": 4
        }
      ],
      "source": [
        "imprimir(\"I_1 = \", I1)"
      ]
    },
    {
      "cell_type": "code",
      "execution_count": 5,
      "metadata": {
        "colab": {
          "base_uri": "https://localhost:8080/",
          "height": 38
        },
        "id": "ty8AWwnFWHjt",
        "outputId": "a00e4c2c-4c5f-440b-8e89-dfeeb875a813"
      },
      "outputs": [
        {
          "output_type": "execute_result",
          "data": {
            "text/plain": [
              "<IPython.core.display.Math object>"
            ],
            "text/latex": "$\\displaystyle I_2 = 3 \\sigma_{M}^{2}$"
          },
          "metadata": {},
          "execution_count": 5
        }
      ],
      "source": [
        "imprimir(\"I_2 = \", I2)"
      ]
    },
    {
      "cell_type": "code",
      "execution_count": 6,
      "metadata": {
        "tags": [],
        "colab": {
          "base_uri": "https://localhost:8080/",
          "height": 38
        },
        "id": "-_KeW1GPWHjt",
        "outputId": "0d1377c8-2c97-4ac1-841e-32024ec8e362"
      },
      "outputs": [
        {
          "output_type": "execute_result",
          "data": {
            "text/plain": [
              "<IPython.core.display.Math object>"
            ],
            "text/latex": "$\\displaystyle I_3 = \\sigma_{M}^{3}$"
          },
          "metadata": {},
          "execution_count": 6
        }
      ],
      "source": [
        "imprimir(\"I_3 = \", I3)"
      ]
    },
    {
      "cell_type": "markdown",
      "metadata": {
        "id": "sftyfoHRgzGJ"
      },
      "source": [
        "## 3. Verificación de que los esfuerzos desviadores no afectan el volumen del sólido"
      ]
    },
    {
      "cell_type": "markdown",
      "source": [
        "Los esfuerzos desviadores son responsables de las distorsiones del sólido. Estos se definen como:\n",
        "\\begin{align*}\n",
        "    s_x &:= \\sigma_x - \\sigma_M  \\\\\n",
        "    s_y &:= \\sigma_y - \\sigma_M  \\\\\n",
        "    s_z &:= \\sigma_z - \\sigma_M\n",
        "\\end{align*}\n",
        "\n",
        "Calculamos sus deformaciones asociadas mediante la Ley de Hooke (ecuaciones de Lamé):\n",
        "\\begin{align*}\n",
        "  \\varepsilon_x & = \\frac{1}{E} \\left(\\sigma_x - \\nu\\left(\\sigma_y + \\sigma_z\\right)\\right)\\\\\n",
        "  \\varepsilon_y & = \\frac{1}{E} \\left(\\sigma_y - \\nu\\left(\\sigma_x + \\sigma_z\\right)\\right)\\\\\n",
        "  \\varepsilon_z & = \\frac{1}{E} \\left(\\sigma_z - \\nu\\left(\\sigma_x + \\sigma_y\\right)\\right)\n",
        "\\end{align*}"
      ],
      "metadata": {
        "id": "uxwGiR-Kfd0q"
      }
    },
    {
      "cell_type": "code",
      "execution_count": 7,
      "metadata": {
        "id": "C2urL4wOfO8P",
        "colab": {
          "base_uri": "https://localhost:8080/",
          "height": 38
        },
        "outputId": "2ec29dd6-e06f-43e1-d72f-171d54987426"
      },
      "outputs": [
        {
          "output_type": "execute_result",
          "data": {
            "text/plain": [
              "<IPython.core.display.Math object>"
            ],
            "text/latex": "$\\displaystyle e(x,y,z) = 0$"
          },
          "metadata": {},
          "execution_count": 7
        }
      ],
      "source": [
        "# esfuerzos hidrostáticos\n",
        "sM = (sigmax + sigmay + sigmaz)/3\n",
        "\n",
        "# esfuerzos desviadores\n",
        "sx = sigmax - sM\n",
        "sy = sigmay - sM\n",
        "sz = sigmaz - sM\n",
        "\n",
        "# Calculamos las deformaciones\n",
        "ex = (1/E) * (sx - nu*(sy + sz))\n",
        "ey = (1/E) * (sy - nu*(sx + sz))\n",
        "ez = (1/E) * (sz - nu*(sx + sy))\n",
        "\n",
        "# Verificamos que la dilatación cúbica es nula (e=0)\n",
        "e = expand(ex + ey + ez)\n",
        "\n",
        "# Mostramos en pantalla\n",
        "imprimir(\"e(x,y,z) = \", e)"
      ]
    },
    {
      "cell_type": "markdown",
      "metadata": {
        "id": "sZyYvptfpw-Z"
      },
      "source": [
        "## 4. Descomposición del tensor de esfuerzos en sus componentes hidrostática y desviadora"
      ]
    },
    {
      "cell_type": "markdown",
      "metadata": {
        "id": "B_GDen9-WHju"
      },
      "source": [
        "Dadas las definiciones anteriores de los esfuerzos medios o hidrostáticos, y los desviadores, podemos hacer la siguiente construcción matricial del tensor de esfuerzos:\n",
        "\n",
        "\\begin{equation}\n",
        "\\underbrace{\n",
        " \\begin{bmatrix}\n",
        "\t\\sigma_x  & \\tau_{xy} & \\tau_{xz} \\\\\n",
        "\t\\tau_{xy} & \\sigma_y  & \\tau_{yz} \\\\\n",
        "\t\\tau_{xz} & \\tau_{yz} & \\sigma_z\n",
        " \\end{bmatrix}}_{\\boldsymbol{\\sigma}} =\n",
        "\\underbrace{%\n",
        " \\begin{bmatrix}\n",
        "\t\\sigma_M  & 0         & 0 \\\\\n",
        "\t0         & \\sigma_M  & 0 \\\\\n",
        "\t0         & 0         & \\sigma_M\n",
        "\\end{bmatrix}}_{\\boldsymbol{\\sigma}_{\\text{hidr}}}\n",
        "+\n",
        "\\underbrace{%\n",
        " \\begin{bmatrix}\n",
        "        s_x & \\tau_{xy} & \\tau_{xz} \\\\\n",
        "        \\tau_{xy} & s_y & \\tau_{yz} \\\\\n",
        "        \\tau_{xz} & \\tau_{yz} & s_z\n",
        " \\end{bmatrix}}_{\\boldsymbol{\\sigma}_{\\text{desv}}}\n",
        "\\end{equation}"
      ]
    },
    {
      "cell_type": "code",
      "source": [
        "# Se define el tensor de esfuerzos hidrostáticos\n",
        "sigma_hidr = diag(sM, sM, sM)\n",
        "\n",
        "# Se define el tensor de esfuerzos desviadores\n",
        "sigma_desv = Matrix([\n",
        "    [sx, txy, txz],\n",
        "    [txy, sy, tyz],\n",
        "    [txz, tyz, sz]\n",
        "    ])\n",
        "\n",
        "# Se define el tensor de esfuerzos\n",
        "sigma = sigma_hidr + sigma_desv"
      ],
      "metadata": {
        "id": "jLUmBgF1hpLo"
      },
      "execution_count": 8,
      "outputs": []
    },
    {
      "cell_type": "markdown",
      "metadata": {
        "id": "Ld2A_vFgWHjv"
      },
      "source": [
        "## 4. Cálculo de los invariantes de esfuerzos\n",
        "\n",
        "Calculamos los invariantes del tensor de esfuerzos ya que encontraremos más adelante simplificaciones en función de estos."
      ]
    },
    {
      "cell_type": "code",
      "execution_count": 9,
      "metadata": {
        "id": "vSG03Eu_WHjw"
      },
      "outputs": [],
      "source": [
        "I1 = trace(sigma)\n",
        "I2 = (trace(sigma)**2 - trace((sigma)**2))/2\n",
        "I3 = det(sigma)"
      ]
    },
    {
      "cell_type": "markdown",
      "metadata": {
        "id": "v-200DD1WHjw"
      },
      "source": [
        "Se calculan de nuevo los invariantes de esfuerzos hidrostáticos, ahora estos estarán en témrinos de los esfuerzos normales y tangenciales en lugar del esfuerzo medio o hidrostático."
      ]
    },
    {
      "cell_type": "code",
      "execution_count": 10,
      "metadata": {
        "id": "Ju0QWMwJWHjw"
      },
      "outputs": [],
      "source": [
        "Itilde1 = trace(sigma_hidr)\n",
        "Itilde2 = (trace(sigma_hidr)**2 - trace((sigma_hidr)**2))/2\n",
        "Itilde3 = det(sigma_hidr)"
      ]
    },
    {
      "cell_type": "code",
      "execution_count": 11,
      "metadata": {
        "colab": {
          "base_uri": "https://localhost:8080/",
          "height": 38
        },
        "id": "UB99TXfbWHjw",
        "outputId": "c55eed1d-8fec-439d-b37e-3f70e784660d"
      },
      "outputs": [
        {
          "output_type": "execute_result",
          "data": {
            "text/plain": [
              "<IPython.core.display.Math object>"
            ],
            "text/latex": "$\\displaystyle \\tilde{I}_1 = \\sigma_{x} + \\sigma_{y} + \\sigma_{z}$"
          },
          "metadata": {},
          "execution_count": 11
        }
      ],
      "source": [
        "imprimir(r\"\\tilde{I}_1 = \", Itilde1)"
      ]
    },
    {
      "cell_type": "code",
      "execution_count": 12,
      "metadata": {
        "colab": {
          "base_uri": "https://localhost:8080/",
          "height": 59
        },
        "id": "bp2E5m10WHjw",
        "outputId": "beb552d2-3d52-43f7-db4f-b21a6289db66"
      },
      "outputs": [
        {
          "output_type": "execute_result",
          "data": {
            "text/plain": [
              "<IPython.core.display.Math object>"
            ],
            "text/latex": "$\\displaystyle \\tilde{I}_2 = - \\frac{3 \\left(\\frac{\\sigma_{x}}{3} + \\frac{\\sigma_{y}}{3} + \\frac{\\sigma_{z}}{3}\\right)^{2}}{2} + \\frac{\\left(\\sigma_{x} + \\sigma_{y} + \\sigma_{z}\\right)^{2}}{2}$"
          },
          "metadata": {},
          "execution_count": 12
        }
      ],
      "source": [
        "imprimir(r\"\\tilde{I}_2 = \", Itilde2)"
      ]
    },
    {
      "cell_type": "code",
      "execution_count": 13,
      "metadata": {
        "tags": [],
        "colab": {
          "base_uri": "https://localhost:8080/",
          "height": 56
        },
        "id": "ci1aT-PXWHjx",
        "outputId": "5b1f59f4-a40e-42ad-f37a-e6e14f02c461"
      },
      "outputs": [
        {
          "output_type": "execute_result",
          "data": {
            "text/plain": [
              "<IPython.core.display.Math object>"
            ],
            "text/latex": "$\\displaystyle \\tilde{I}_3 = \\frac{\\sigma_{x}^{3}}{27} + \\frac{\\sigma_{x}^{2} \\sigma_{y}}{9} + \\frac{\\sigma_{x}^{2} \\sigma_{z}}{9} + \\frac{\\sigma_{x} \\sigma_{y}^{2}}{9} + \\frac{2 \\sigma_{x} \\sigma_{y} \\sigma_{z}}{9} + \\frac{\\sigma_{x} \\sigma_{z}^{2}}{9} + \\frac{\\sigma_{y}^{3}}{27} + \\frac{\\sigma_{y}^{2} \\sigma_{z}}{9} + \\frac{\\sigma_{y} \\sigma_{z}^{2}}{9} + \\frac{\\sigma_{z}^{3}}{27}$"
          },
          "metadata": {},
          "execution_count": 13
        }
      ],
      "source": [
        "imprimir(r\"\\tilde{I}_3 = \", Itilde3)"
      ]
    },
    {
      "cell_type": "markdown",
      "metadata": {
        "id": "uAAusnQtWHjx"
      },
      "source": [
        "Se calculan los invariantes de esfuerzos desviadores:"
      ]
    },
    {
      "cell_type": "code",
      "execution_count": 14,
      "metadata": {
        "id": "41ObQCiyWHjx"
      },
      "outputs": [],
      "source": [
        "J1 = trace(sigma_desv)\n",
        "J2 = -(trace(sigma_desv)**2 - trace((sigma_desv)**2))/2  # OJO con el signo menos al principio\n",
        "J3 = det(sigma_desv)"
      ]
    },
    {
      "cell_type": "code",
      "execution_count": 15,
      "metadata": {
        "colab": {
          "base_uri": "https://localhost:8080/",
          "height": 38
        },
        "id": "VzbrdsrAWHjx",
        "outputId": "753b4c18-f112-4f22-a153-36e416a11dbc"
      },
      "outputs": [
        {
          "output_type": "execute_result",
          "data": {
            "text/plain": [
              "<IPython.core.display.Math object>"
            ],
            "text/latex": "$\\displaystyle J_1 = 0$"
          },
          "metadata": {},
          "execution_count": 15
        }
      ],
      "source": [
        "imprimir(\"J_1 = \", J1)"
      ]
    },
    {
      "cell_type": "code",
      "execution_count": 16,
      "metadata": {
        "colab": {
          "base_uri": "https://localhost:8080/",
          "height": 56
        },
        "id": "QULWO9wHWHjx",
        "outputId": "381d0ae2-ebf5-4806-ff86-dcfbafbd1ad5"
      },
      "outputs": [
        {
          "output_type": "execute_result",
          "data": {
            "text/plain": [
              "<IPython.core.display.Math object>"
            ],
            "text/latex": "$\\displaystyle J_2 = \\frac{\\sigma_{x}^{2}}{3} - \\frac{\\sigma_{x} \\sigma_{y}}{3} - \\frac{\\sigma_{x} \\sigma_{z}}{3} + \\frac{\\sigma_{y}^{2}}{3} - \\frac{\\sigma_{y} \\sigma_{z}}{3} + \\frac{\\sigma_{z}^{2}}{3} + \\tau_{xy}^{2} + \\tau_{xz}^{2} + \\tau_{yz}^{2}$"
          },
          "metadata": {},
          "execution_count": 16
        }
      ],
      "source": [
        "imprimir(\"J_2 = \", J2)"
      ]
    },
    {
      "cell_type": "code",
      "execution_count": 17,
      "metadata": {
        "tags": [],
        "colab": {
          "base_uri": "https://localhost:8080/",
          "height": 94
        },
        "id": "sSbedXT4WHjy",
        "outputId": "698646f2-c294-401f-ee60-10a44dd93f9e"
      },
      "outputs": [
        {
          "output_type": "execute_result",
          "data": {
            "text/plain": [
              "<IPython.core.display.Math object>"
            ],
            "text/latex": "$\\displaystyle J_3 = \\frac{2 \\sigma_{x}^{3}}{27} - \\frac{\\sigma_{x}^{2} \\sigma_{y}}{9} - \\frac{\\sigma_{x}^{2} \\sigma_{z}}{9} - \\frac{\\sigma_{x} \\sigma_{y}^{2}}{9} + \\frac{4 \\sigma_{x} \\sigma_{y} \\sigma_{z}}{9} - \\frac{\\sigma_{x} \\sigma_{z}^{2}}{9} + \\frac{\\sigma_{x} \\tau_{xy}^{2}}{3} + \\frac{\\sigma_{x} \\tau_{xz}^{2}}{3} - \\frac{2 \\sigma_{x} \\tau_{yz}^{2}}{3} + \\frac{2 \\sigma_{y}^{3}}{27} - \\frac{\\sigma_{y}^{2} \\sigma_{z}}{9} - \\frac{\\sigma_{y} \\sigma_{z}^{2}}{9} + \\frac{\\sigma_{y} \\tau_{xy}^{2}}{3} - \\frac{2 \\sigma_{y} \\tau_{xz}^{2}}{3} + \\frac{\\sigma_{y} \\tau_{yz}^{2}}{3} + \\frac{2 \\sigma_{z}^{3}}{27} - \\frac{2 \\sigma_{z} \\tau_{xy}^{2}}{3} + \\frac{\\sigma_{z} \\tau_{xz}^{2}}{3} + \\frac{\\sigma_{z} \\tau_{yz}^{2}}{3} + 2 \\tau_{xy} \\tau_{xz} \\tau_{yz}$"
          },
          "metadata": {},
          "execution_count": 17
        }
      ],
      "source": [
        "imprimir(\"J_3 = \", J3)"
      ]
    },
    {
      "cell_type": "markdown",
      "metadata": {
        "id": "4ut9VF02WHjy"
      },
      "source": [
        "## 5. Verificando las expresiones de los invariantes $J_2$ y $J_3$\n",
        "\n",
        "En el desarrollo del segundo invariante de esfuerzos desviadores $J_2$, se encontraron las siguientes relaciones:\n",
        "\\begin{align*}\n",
        "J_2 &:= \\frac{(\\sigma_x - \\sigma_y)^2 + (\\sigma_y - \\sigma_z)^2 + (\\sigma_z - \\sigma_x)^2}{6} + \\tau_{xy}^2 + \\tau_{xz}^2 + \\tau_{yz}^2 \\\\\n",
        "    &= \\frac{(\\sigma_1 - \\sigma_2)^2 + (\\sigma_2 - \\sigma_3)^2 + (\\sigma_3 - \\sigma_1)^2}{6} \\\\\n",
        "    &= \\frac{I_1^2}{3} - I_2 \\\\\n",
        "    &= \\frac{1}{2} \\left[ \\operatorname{tr}(\\underline{\\underline{\\sigma}}^2) - \\frac{1}{3} \\operatorname{tr}(\\underline{\\underline{\\sigma}})^2 \\right] \\\\\n",
        "    &= \\frac{1}{2} \\operatorname{tr}(\\underline{\\underline{\\sigma}}_{\\text{desv}}^2) \\\\\n",
        "    &= \\frac{1}{2} \\left\\lVert \\underline{\\underline{\\sigma}}_{\\text{desv}} \\right\\rVert_F^2 \\\\\n",
        "    &= -s_1 s_2 - s_2 s_3 - s_1 s_3 \\\\\n",
        "    &= \\frac{1}{2} \\left( s_1^2 + s_2^2 + s_3^2 \\right) \\\\\n",
        "    &= \\frac{1}{2} \\left\\lVert [s_1, \\; s_2, \\; s_3]^T \\right\\rVert^2\n",
        "\\end{align*}\n",
        "\n",
        "Estas van a ser verificadas a continuación:"
      ]
    },
    {
      "cell_type": "code",
      "execution_count": 18,
      "metadata": {
        "colab": {
          "base_uri": "https://localhost:8080/",
          "height": 37
        },
        "id": "0aHNfpLfWHjy",
        "outputId": "95561324-8925-4c77-e497-efec501bd908"
      },
      "outputs": [
        {
          "output_type": "execute_result",
          "data": {
            "text/plain": [
              "0"
            ],
            "text/latex": "$\\displaystyle 0$"
          },
          "metadata": {},
          "execution_count": 18
        }
      ],
      "source": [
        "expr_J2 = ((sigmax - sigmay)**2 + (sigmay - sigmaz)**2 + (sigmaz - sigmax)**2)/6 + txy**2 + txz**2 + tyz**2\n",
        "simplify(J2 - expr_J2)"
      ]
    },
    {
      "cell_type": "code",
      "execution_count": 19,
      "metadata": {
        "colab": {
          "base_uri": "https://localhost:8080/",
          "height": 37
        },
        "id": "8VA7M-nfWHjy",
        "outputId": "6b685c9d-6f41-4c19-8c4e-9f71c79a4572"
      },
      "outputs": [
        {
          "output_type": "execute_result",
          "data": {
            "text/plain": [
              "0"
            ],
            "text/latex": "$\\displaystyle 0$"
          },
          "metadata": {},
          "execution_count": 19
        }
      ],
      "source": [
        "expr_J2 = I1**2/3 - I2\n",
        "simplify(J2 - expr_J2)"
      ]
    },
    {
      "cell_type": "code",
      "execution_count": 20,
      "metadata": {
        "colab": {
          "base_uri": "https://localhost:8080/",
          "height": 37
        },
        "id": "CxQWeKqYWHjz",
        "outputId": "e05ee0bb-4d45-47f2-841e-18bd6e2f5594"
      },
      "outputs": [
        {
          "output_type": "execute_result",
          "data": {
            "text/plain": [
              "0"
            ],
            "text/latex": "$\\displaystyle 0$"
          },
          "metadata": {},
          "execution_count": 20
        }
      ],
      "source": [
        "expr_J2 = (trace(sigma**2) - trace(sigma)**2/3)/2\n",
        "simplify(J2 - expr_J2)"
      ]
    },
    {
      "cell_type": "code",
      "execution_count": 21,
      "metadata": {
        "colab": {
          "base_uri": "https://localhost:8080/",
          "height": 37
        },
        "id": "NxIjbrgCWHjz",
        "outputId": "9ec83ad7-dc46-43dd-8992-ac07994f90b4"
      },
      "outputs": [
        {
          "output_type": "execute_result",
          "data": {
            "text/plain": [
              "0"
            ],
            "text/latex": "$\\displaystyle 0$"
          },
          "metadata": {},
          "execution_count": 21
        }
      ],
      "source": [
        "expr_J2 = trace(sigma_desv**2)/2\n",
        "simplify(J2 - expr_J2)"
      ]
    },
    {
      "cell_type": "markdown",
      "source": [
        "$\\|\\boldsymbol{\\sigma}_{\\text{desv}}\\|_F$ representa la norma de Frobenius de la matriz $\\boldsymbol{\\sigma}_{\\text{desv}}$. La norma de Frobenius de una matriz real $A$ de tamaño $m \\times n$ se define como\n",
        "$\\|A\\|_F = \\sum_{i=1}^{m} \\sum_{j=1}^{n} A_{ij}^2 = \\sqrt{\\text{tr}(A^T A)}$ o en notación indicial como $\\|A\\|_F = A_{ij} A_{ij}$.\n"
      ],
      "metadata": {
        "id": "eO1uXCkqtov-"
      }
    },
    {
      "cell_type": "code",
      "execution_count": 22,
      "metadata": {
        "colab": {
          "base_uri": "https://localhost:8080/",
          "height": 37
        },
        "id": "DA1dwKriWHjz",
        "outputId": "a1b4c0ef-79a2-4bdb-da86-889af590f415"
      },
      "outputs": [
        {
          "output_type": "execute_result",
          "data": {
            "text/plain": [
              "0"
            ],
            "text/latex": "$\\displaystyle 0$"
          },
          "metadata": {},
          "execution_count": 22
        }
      ],
      "source": [
        "# se calcula la norma de Frobenius\n",
        "expr_J2 = sum(sigma_desv[i,j]**2 for i in range(3) for j in range(3))/2\n",
        "simplify(J2 - expr_J2)"
      ]
    },
    {
      "cell_type": "markdown",
      "source": [
        "En el desarrollo del tercer invariante de esfuerzos desviadores $J_3$, se encontraron las siguientes relaciones:\n",
        "\\begin{align*}\n",
        "\t\t\t\tJ_3 &:= \\frac{(2\\sigma_1 - \\sigma_2 - \\sigma_3)(2\\sigma_2 - \\sigma_1 - \\sigma_3)(2\\sigma_3 - \\sigma_1 - \\sigma_2)}{27} \\\\\n",
        "\t\t\t\t\t&= I_3 - \\frac{1}{3} I_1 I_2 + \\frac{2}{27} I_1^3 \\\\\n",
        "\t\t\t\t\t&= \\det(\\underline{\\underline{\\sigma}}_{\\text{desv}}) \\\\\n",
        "\t\t\t\t\t&= \\frac{1}{3} \\operatorname{tr}(\\underline{\\underline{\\sigma}}_{\\text{desv}}^3) \\\\\n",
        "\t\t\t\t\t&= s_1 s_2 s_3.\n",
        "\t\t\t\\end{align*}\n",
        "\n",
        "Estas van a ser verificadas a continuación:"
      ],
      "metadata": {
        "id": "xWmRzKjckP5D"
      }
    },
    {
      "cell_type": "code",
      "execution_count": 23,
      "metadata": {
        "colab": {
          "base_uri": "https://localhost:8080/",
          "height": 37
        },
        "id": "m0GL_qDJWHj0",
        "outputId": "17661148-8329-47b0-d9a3-b37aa32d34d0"
      },
      "outputs": [
        {
          "output_type": "execute_result",
          "data": {
            "text/plain": [
              "0"
            ],
            "text/latex": "$\\displaystyle 0$"
          },
          "metadata": {},
          "execution_count": 23
        }
      ],
      "source": [
        "expr_J3 = I3 - I1*I2/3 + 2*I1**3/27\n",
        "simplify(J3 - expr_J3)"
      ]
    },
    {
      "cell_type": "code",
      "execution_count": 24,
      "metadata": {
        "colab": {
          "base_uri": "https://localhost:8080/",
          "height": 37
        },
        "id": "Ih9xlpFGvT3m",
        "outputId": "364516fc-99b0-44db-be83-ecb08ae93e85"
      },
      "outputs": [
        {
          "output_type": "execute_result",
          "data": {
            "text/plain": [
              "0"
            ],
            "text/latex": "$\\displaystyle 0$"
          },
          "metadata": {},
          "execution_count": 24
        }
      ],
      "source": [
        "expr_J3 = det(sigma_desv)\n",
        "simplify(J3 - expr_J3)"
      ]
    },
    {
      "cell_type": "code",
      "execution_count": 25,
      "metadata": {
        "colab": {
          "base_uri": "https://localhost:8080/",
          "height": 37
        },
        "id": "1LOIiUvEWHj0",
        "outputId": "61f2fe58-b0ff-4b8e-95db-76b4b62893d3"
      },
      "outputs": [
        {
          "output_type": "execute_result",
          "data": {
            "text/plain": [
              "0"
            ],
            "text/latex": "$\\displaystyle 0$"
          },
          "metadata": {},
          "execution_count": 25
        }
      ],
      "source": [
        "expr_J3 = trace(sigma_desv**3)/3\n",
        "simplify(J3 - expr_J3)"
      ]
    },
    {
      "cell_type": "markdown",
      "metadata": {
        "id": "0HLtgQpVWHj0"
      },
      "source": [
        "## 7. Verificación en los esfuerzos desviadores principales"
      ]
    },
    {
      "cell_type": "code",
      "execution_count": 26,
      "metadata": {
        "id": "7R5ULFWTWHj0"
      },
      "outputs": [],
      "source": [
        "# Definimos los esfuerzos principales\n",
        "sigma1, sigma2, sigma3 = symbols('sigma_1, sigma_2, sigma_3')\n",
        "\n",
        "# En estos términos, los esfuerzos hidrostáticos principales...\n",
        "sM = (sigma1 + sigma2 + sigma3)/3\n",
        "\n",
        "# ... y los esfuerzos desviadores principales.\n",
        "s1 = sigma1 - sM\n",
        "s2 = sigma2 - sM\n",
        "s3 = sigma3 - sM\n",
        "\n",
        "# Definimos el tensor de esfuerzos desviadores principales\n",
        "sigma_desvp = diag(s1, s2, s3)\n",
        "\n",
        "# Calculamos los invariantes asociados a este tensor.\n",
        "J1 = trace(sigma_desvp)\n",
        "J2 = -(trace(sigma_desvp)**2 - trace((sigma_desvp)**2))/2  # OJO con el signo menos al principio\n",
        "J3 = det(sigma_desvp)"
      ]
    },
    {
      "cell_type": "code",
      "execution_count": 27,
      "metadata": {
        "colab": {
          "base_uri": "https://localhost:8080/",
          "height": 38
        },
        "id": "UWRYDB3JWHj1",
        "outputId": "e96eb41a-a750-4945-9409-ccbf8a54b7b5"
      },
      "outputs": [
        {
          "output_type": "execute_result",
          "data": {
            "text/plain": [
              "<IPython.core.display.Math object>"
            ],
            "text/latex": "$\\displaystyle J_1 = 0$"
          },
          "metadata": {},
          "execution_count": 27
        }
      ],
      "source": [
        "imprimir(\"J_1 = \", J1)"
      ]
    },
    {
      "cell_type": "code",
      "execution_count": 28,
      "metadata": {
        "colab": {
          "base_uri": "https://localhost:8080/",
          "height": 59
        },
        "id": "k2TTlknRWHj1",
        "outputId": "9e8eb950-a608-41a5-c879-fb9fb7904a05"
      },
      "outputs": [
        {
          "output_type": "execute_result",
          "data": {
            "text/plain": [
              "<IPython.core.display.Math object>"
            ],
            "text/latex": "$\\displaystyle J_2 = \\frac{\\left(- \\frac{\\sigma_{1}}{3} - \\frac{\\sigma_{2}}{3} + \\frac{2 \\sigma_{3}}{3}\\right)^{2}}{2} + \\frac{\\left(- \\frac{\\sigma_{1}}{3} + \\frac{2 \\sigma_{2}}{3} - \\frac{\\sigma_{3}}{3}\\right)^{2}}{2} + \\frac{\\left(\\frac{2 \\sigma_{1}}{3} - \\frac{\\sigma_{2}}{3} - \\frac{\\sigma_{3}}{3}\\right)^{2}}{2}$"
          },
          "metadata": {},
          "execution_count": 28
        }
      ],
      "source": [
        "imprimir(\"J_2 = \", J2)"
      ]
    },
    {
      "cell_type": "code",
      "execution_count": 29,
      "metadata": {
        "tags": [],
        "colab": {
          "base_uri": "https://localhost:8080/",
          "height": 54
        },
        "id": "MVRs7JbNWHj2",
        "outputId": "daaaa319-101d-4436-ca55-c25b0dc74046"
      },
      "outputs": [
        {
          "output_type": "execute_result",
          "data": {
            "text/plain": [
              "<IPython.core.display.Math object>"
            ],
            "text/latex": "$\\displaystyle J_3 = \\frac{2 \\sigma_{1}^{3}}{27} - \\frac{\\sigma_{1}^{2} \\sigma_{2}}{9} - \\frac{\\sigma_{1}^{2} \\sigma_{3}}{9} - \\frac{\\sigma_{1} \\sigma_{2}^{2}}{9} + \\frac{4 \\sigma_{1} \\sigma_{2} \\sigma_{3}}{9} - \\frac{\\sigma_{1} \\sigma_{3}^{2}}{9} + \\frac{2 \\sigma_{2}^{3}}{27} - \\frac{\\sigma_{2}^{2} \\sigma_{3}}{9} - \\frac{\\sigma_{2} \\sigma_{3}^{2}}{9} + \\frac{2 \\sigma_{3}^{3}}{27}$"
          },
          "metadata": {},
          "execution_count": 29
        }
      ],
      "source": [
        "imprimir(\"J_3 = \", J3)"
      ]
    },
    {
      "cell_type": "markdown",
      "metadata": {
        "id": "piHBXcFyWHj3"
      },
      "source": [
        "Verificamos algunas de las expresiones anteriormente mencionadas para el invariante $J_2$."
      ]
    },
    {
      "cell_type": "code",
      "execution_count": 30,
      "metadata": {
        "colab": {
          "base_uri": "https://localhost:8080/",
          "height": 37
        },
        "id": "Xg84JMx_WHj3",
        "outputId": "70ac4ec9-1f08-4bc7-9aac-ffbb6a3d0a3b"
      },
      "outputs": [
        {
          "output_type": "execute_result",
          "data": {
            "text/plain": [
              "0"
            ],
            "text/latex": "$\\displaystyle 0$"
          },
          "metadata": {},
          "execution_count": 30
        }
      ],
      "source": [
        "expr_J2 = ((sigma1 - sigma2)**2 + (sigma2 - sigma3)**2 + (sigma1 - sigma3)**2)/6\n",
        "simplify(J2 - expr_J2)"
      ]
    },
    {
      "cell_type": "code",
      "execution_count": 31,
      "metadata": {
        "colab": {
          "base_uri": "https://localhost:8080/",
          "height": 37
        },
        "id": "EdB_x9yQWHj3",
        "outputId": "89028bb2-7e62-46b8-f8fb-5cbb45451a64"
      },
      "outputs": [
        {
          "output_type": "execute_result",
          "data": {
            "text/plain": [
              "0"
            ],
            "text/latex": "$\\displaystyle 0$"
          },
          "metadata": {},
          "execution_count": 31
        }
      ],
      "source": [
        "expr_J2 = -s1*s2 - s2*s3 - s1*s3\n",
        "simplify(J2 - expr_J2)"
      ]
    },
    {
      "cell_type": "code",
      "execution_count": 32,
      "metadata": {
        "colab": {
          "base_uri": "https://localhost:8080/",
          "height": 37
        },
        "id": "1o9tfB3KWHj3",
        "outputId": "36b2833c-874e-48bc-e6bc-f800c2679410"
      },
      "outputs": [
        {
          "output_type": "execute_result",
          "data": {
            "text/plain": [
              "0"
            ],
            "text/latex": "$\\displaystyle 0$"
          },
          "metadata": {},
          "execution_count": 32
        }
      ],
      "source": [
        "expr_J2 = (s1**2 + s2**2 + s3**2)/2\n",
        "simplify(J2 - expr_J2)"
      ]
    },
    {
      "cell_type": "markdown",
      "source": [
        "Verificamos algunas de las expresiones anteriormente mencionadas para el invariante $J_3$."
      ],
      "metadata": {
        "id": "7FFaQ-WilPhn"
      }
    },
    {
      "cell_type": "code",
      "execution_count": 33,
      "metadata": {
        "colab": {
          "base_uri": "https://localhost:8080/",
          "height": 37
        },
        "id": "pccCf-PMWHj3",
        "outputId": "af6acccf-8e68-45be-a0bf-0611758cae42"
      },
      "outputs": [
        {
          "output_type": "execute_result",
          "data": {
            "text/plain": [
              "0"
            ],
            "text/latex": "$\\displaystyle 0$"
          },
          "metadata": {},
          "execution_count": 33
        }
      ],
      "source": [
        "expr_J3 = (2*sigma1 - sigma2 - sigma3)*(2*sigma2 - sigma1 - sigma3)*(2*sigma3 - sigma1 - sigma2)/27\n",
        "simplify(J3 - expr_J3)"
      ]
    },
    {
      "cell_type": "code",
      "execution_count": 34,
      "metadata": {
        "colab": {
          "base_uri": "https://localhost:8080/",
          "height": 37
        },
        "id": "CYjdAwRgWHj3",
        "outputId": "4d828955-3a4e-4313-af8b-4f9803fbedd9"
      },
      "outputs": [
        {
          "output_type": "execute_result",
          "data": {
            "text/plain": [
              "0"
            ],
            "text/latex": "$\\displaystyle 0$"
          },
          "metadata": {},
          "execution_count": 34
        }
      ],
      "source": [
        "expr_J3 = s1*s2*s3\n",
        "simplify(J3 - expr_J3)"
      ]
    },
    {
      "cell_type": "markdown",
      "source": [
        "Fin :)"
      ],
      "metadata": {
        "id": "xsjU7ByblSiE"
      }
    }
  ],
  "metadata": {
    "colab": {
      "provenance": []
    },
    "kernelspec": {
      "display_name": "Python 3 (ipykernel)",
      "language": "python",
      "name": "python3"
    },
    "language_info": {
      "codemirror_mode": {
        "name": "ipython",
        "version": 3
      },
      "file_extension": ".py",
      "mimetype": "text/x-python",
      "name": "python",
      "nbconvert_exporter": "python",
      "pygments_lexer": "ipython3",
      "version": "3.11.7"
    }
  },
  "nbformat": 4,
  "nbformat_minor": 0
}