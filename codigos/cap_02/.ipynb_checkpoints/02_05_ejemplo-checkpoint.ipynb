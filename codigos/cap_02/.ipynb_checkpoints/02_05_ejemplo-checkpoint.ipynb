{
 "cells": [
  {
   "attachments": {},
   "cell_type": "markdown",
   "metadata": {},
   "source": [
    "# 2.5. Cambio de base (ejemplo)\n",
    "\n",
    "|Quién | Fecha | Qué hizo |\n",
    "| ---  | ---   | ---      |\n",
    "|Michael Heredia Pérez, <mherediap@unal.edu.co> | marzo 12, 2022      | Ejemplo de cambio de base|\n",
    "\n",
    "Un punto del sólido $\\Omega$ está sometido al siguiente estado de esfuerzos:\n",
    "\\begin{equation*}\n",
    "    \\boldsymbol{\\underline{\\underline{\\sigma}}} = \n",
    "    \\begin{bmatrix}\n",
    "        -1 & 2  & 1  \\\\\n",
    "            2 & 0  & -2 \\\\\n",
    "            1 & -2 & 1    \n",
    "    \\end{bmatrix} [Pa]\n",
    "\\end{equation*}\n",
    "y está referenciado a un sistema de coordenadas rectangulares dado por $\\{\\boldsymbol{\\hat{e}}_1, \\boldsymbol{\\hat{e}}_2, \\boldsymbol{\\hat{e}}_3\\}$. Calcule el valor del esfuerzo $\\sigma_{y'}$, donde $\\boldsymbol{e}'_1$ va en la dirección de $2\\boldsymbol{\\hat{e}}_1 + 3\\boldsymbol{\\hat{e}}_2 + \\boldsymbol{\\hat{e}}_3$ y $\\boldsymbol{e}'_2$ va en la dirección de $\\boldsymbol{\\hat{e}}_1 + \\boldsymbol{\\hat{e}}_3$. \n",
    "\n",
    "## Solución\n",
    "\n",
    "Aplicamos la ecuación $\\sigma_{y'} = \\boldsymbol{\\hat{e}}_{2'}^T \\underline{\\underline{\\boldsymbol{\\sigma}}} \\boldsymbol{\\hat{e}}_{2'}$, por lo que solo trabajaremos con $\\boldsymbol{e}_{2'}$"
   ]
  },
  {
   "cell_type": "code",
   "execution_count": 2,
   "metadata": {},
   "outputs": [],
   "source": [
    "# (Esto está aquí nada más que para imprimir bonito)\n",
    "import sympy as sp\n",
    "from IPython.display import Math                 \n",
    "def imprimir (texto, variable, unidad=False):\n",
    "    if unidad:\n",
    "        return Math(texto + rf'{sp.latex(variable)}' + unidad)\n",
    "    else:\n",
    "        return Math(texto + rf'{sp.latex(variable)}')"
   ]
  },
  {
   "cell_type": "code",
   "execution_count": 3,
   "metadata": {},
   "outputs": [],
   "source": [
    "import numpy as np\n",
    "\n",
    "# Definimos la matriz sigma\n",
    "sigma = np.array([\n",
    "    [1,  2,  1],\n",
    "    [2,  0, -2],\n",
    "    [1, -2,  1]\n",
    "])\n",
    "\n",
    "# Definimos e2' como vector\n",
    "e2p  = np.array([1, 0, 1])   \n",
    "\n",
    "# Normalizamos e2'\n",
    "e2pg = e2p / np.linalg.norm(e2p)\n",
    "\n",
    "# Calculamos sy'    \n",
    "syp  = e2pg.T @ sigma @ e2pg  "
   ]
  },
  {
   "cell_type": "code",
   "execution_count": 4,
   "metadata": {},
   "outputs": [
    {
     "data": {
      "text/latex": [
       "$\\displaystyle \\sigma_{y'} = 2.0 Pa$"
      ],
      "text/plain": [
       "<IPython.core.display.Math object>"
      ]
     },
     "execution_count": 4,
     "metadata": {},
     "output_type": "execute_result"
    }
   ],
   "source": [
    "imprimir(r\"\\sigma_{y'} = \", syp.round(0), \" Pa\")"
   ]
  }
 ],
 "metadata": {
  "kernelspec": {
   "display_name": "Python 3",
   "language": "python",
   "name": "python3"
  },
  "language_info": {
   "codemirror_mode": {
    "name": "ipython",
    "version": 3
   },
   "file_extension": ".py",
   "mimetype": "text/x-python",
   "name": "python",
   "nbconvert_exporter": "python",
   "pygments_lexer": "ipython3",
   "version": "3.10.6"
  },
  "orig_nbformat": 4
 },
 "nbformat": 4,
 "nbformat_minor": 2
}
